{
 "cells": [
  {
   "cell_type": "markdown",
   "id": "6cc8265f",
   "metadata": {},
   "source": [
    "# Brain_model"
   ]
  },
  {
   "cell_type": "code",
   "execution_count": 1,
   "id": "8d140322",
   "metadata": {},
   "outputs": [
    {
     "data": {
      "text/plain": [
       "<module 'tensorflow._api.v2.version' from 'C:\\\\Users\\\\Afrid\\\\Anaconda3\\\\lib\\\\site-packages\\\\tensorflow\\\\_api\\\\v2\\\\version\\\\__init__.py'>"
      ]
     },
     "execution_count": 1,
     "metadata": {},
     "output_type": "execute_result"
    }
   ],
   "source": [
    "import tensorflow as tf \n",
    "tf.version"
   ]
  },
  {
   "cell_type": "code",
   "execution_count": 2,
   "id": "629d5346",
   "metadata": {},
   "outputs": [],
   "source": [
    "from tensorflow import keras \n",
    "from keras.applications.vgg16 import VGG16, preprocess_input"
   ]
  },
  {
   "cell_type": "code",
   "execution_count": null,
   "id": "6176fcc3",
   "metadata": {},
   "outputs": [],
   "source": [
    "model = keras.models.load_model('./brain_model/model2')"
   ]
  },
  {
   "cell_type": "code",
   "execution_count": null,
   "id": "8c801189",
   "metadata": {},
   "outputs": [],
   "source": [
    "test_datagen = ImageDataGenerator(\n",
    "    preprocessing_function=preprocess_input\n",
    ")\n",
    "\n",
    "validation_generator = test_datagen.flow_from_directory(\n",
    "    VAL_DIR,\n",
    "    color_mode='rgb',\n",
    "    target_size=IMG_SIZE,\n",
    "    batch_size=16,\n",
    "    class_mode='categorical',\n",
    "    seed=RANDOM_SEED\n",
    ")"
   ]
  },
  {
   "cell_type": "code",
   "execution_count": null,
   "id": "7cd86f1c",
   "metadata": {},
   "outputs": [],
   "source": []
  },
  {
   "cell_type": "markdown",
   "id": "a3c7a50c",
   "metadata": {},
   "source": [
    "# Lung_model"
   ]
  },
  {
   "cell_type": "code",
   "execution_count": 1,
   "id": "94c15aea",
   "metadata": {},
   "outputs": [],
   "source": [
    "import torch\n",
    "from torch import nn, optim\n",
    "import torch.nn.functional as F\n",
    "from torch.utils.data import DataLoader\n",
    "from tqdm import tqdm\n",
    "from efficientnet_pytorch import EfficientNet\n",
    "import torchvision.transforms as T\n",
    "from torchvision.datasets import ImageFolder\n",
    "import pickle\n",
    "import numpy as np"
   ]
  },
  {
   "cell_type": "code",
   "execution_count": 15,
   "id": "202ff5fe",
   "metadata": {},
   "outputs": [],
   "source": [
    "def save_feature_vectors(model, loader, output_size=(1, 1), file=\"testb7\"):\n",
    "    model.eval()\n",
    "    images, labels = [], []\n",
    "\n",
    "    for idx, (x, y) in enumerate(tqdm(loader)):\n",
    "        x = x.to(DEVICE)\n",
    "\n",
    "        with torch.no_grad():\n",
    "            features = model.extract_features(x)\n",
    "            features = F.adaptive_avg_pool2d(features, output_size=output_size)\n",
    "        images.append(features.reshape(x.shape[0], -1).detach().cpu().numpy())\n",
    "        labels.append(y.numpy())\n",
    "\n",
    "    np.save(f\"./X_{file}.npy\", np.concatenate(images, axis=0))\n",
    "    np.save(f\"./y_{file}.npy\", np.concatenate(labels, axis=0))\n",
    "    model.train()"
   ]
  },
  {
   "cell_type": "code",
   "execution_count": 16,
   "id": "185ca4b4",
   "metadata": {},
   "outputs": [
    {
     "name": "stdout",
     "output_type": "stream",
     "text": [
      "Loaded pretrained weights for efficientnet-b7\n"
     ]
    },
    {
     "name": "stderr",
     "output_type": "stream",
     "text": [
      "C:\\Users\\Afrid\\Anaconda3\\lib\\site-packages\\sklearn\\base.py:334: UserWarning: Trying to unpickle estimator LogisticRegression from version 0.24.1 when using version 0.23.2. This might lead to breaking code or invalid results. Use at your own risk.\n",
      "  UserWarning)\n",
      "100%|████████████████████████████████████████████████████████████████████████████████████| 5/5 [00:03<00:00,  1.51it/s]\n"
     ]
    },
    {
     "data": {
      "text/plain": [
       "array([0, 0, 0, 1, 1], dtype=int64)"
      ]
     },
     "execution_count": 16,
     "metadata": {},
     "output_type": "execute_result"
    }
   ],
   "source": [
    "# load efficientNet model\n",
    "model = EfficientNet.from_pretrained(\"efficientnet-b7\")\n",
    "model._fc = nn.Linear(2560, 1)\n",
    "model.load_state_dict(torch.load('./lung_model/lung_model.pt', map_location=torch.device('cpu')))\n",
    "model.eval()\n",
    "\n",
    "# load the clf model \n",
    "clf = pickle.load(open('./lung_model/lung_model.sav', 'rb'))\n",
    "\n",
    "# input transforms\n",
    "test_dir = './lung_model/val_data/'\n",
    "DEVICE = 'cpu'\n",
    "X_transform = T.Compose([\n",
    "    T.Resize((256,256)),\n",
    "    T.ToTensor()\n",
    "])\n",
    "input_ = ImageFolder(test_dir, transform=X_transform)\n",
    "test_loader = DataLoader(input_)\n",
    "\n",
    "# save feature vectors as npy file   \n",
    "save_feature_vectors(model, test_loader, output_size=(1, 1), file=\"test_b7\")\n",
    "\n",
    "# load featrue vector npy file \n",
    "X_val = np.load('./X_test_b7.npy')\n",
    "y_val = np.load('./y_test_b7.npy')\n",
    "\n",
    "# classifier \n",
    "clf.score(X_val, y_val)\n",
    "clf.predict(X_val)"
   ]
  },
  {
   "cell_type": "code",
   "execution_count": null,
   "id": "c090a167",
   "metadata": {},
   "outputs": [],
   "source": []
  },
  {
   "cell_type": "markdown",
   "id": "2c53b126",
   "metadata": {},
   "source": [
    "# Cough_model"
   ]
  },
  {
   "cell_type": "code",
   "execution_count": 1,
   "id": "ed8afa4f",
   "metadata": {},
   "outputs": [],
   "source": [
    "import numpy as np\n",
    "import pandas as pd\n",
    "import glob\n",
    "import librosa\n",
    "import pickle\n",
    "from scipy import signal\n",
    "import warnings\n",
    "warnings.filterwarnings(\"ignore\")"
   ]
  },
  {
   "cell_type": "code",
   "execution_count": 216,
   "id": "c141fdb2",
   "metadata": {},
   "outputs": [],
   "source": [
    "def feature_extraction(file_name):\n",
    "    try:\n",
    "        X, sr = librosa.load(file_name)\n",
    "        if X.ndim > 1:\n",
    "            X = X[:, 0]\n",
    "        X = X.T\n",
    "        stft = np.abs(librosa.stft(X))\n",
    "        chroma_stft = np.mean(librosa.feature.chroma_stft(S=stft, sr=sr).T, axis=0)\n",
    "        rmse = np.mean(librosa.feature.rms(y=X))\n",
    "        spec_cent = np.mean(librosa.feature.spectral_centroid(y=X, sr=sr))\n",
    "        spec_bw = np.mean(librosa.feature.spectral_bandwidth(y=X, sr=sr))\n",
    "        rolloff = np.mean(librosa.feature.spectral_rolloff(y=X, sr=sr))\n",
    "        zcr = np.mean(librosa.feature.zero_crossing_rate(X))\n",
    "        mfcc = np.mean(librosa.feature.mfcc(y=X, sr=sr, n_mfcc=40).T, axis=0)  # 40 values\n",
    "#         mel = np.mean(librosa.feature.melspectrogram(X, sr=sample_rate).T, axis=0)\n",
    "        return np.mean(chroma_stft), rmse, spec_cent, spec_bw, rolloff, zcr, mfcc \n",
    "    except ValueError:\n",
    "        return None"
   ]
  },
  {
   "cell_type": "code",
   "execution_count": 341,
   "id": "254c95c3",
   "metadata": {},
   "outputs": [
    {
     "data": {
      "text/plain": [
       "array([1], dtype=int64)"
      ]
     },
     "execution_count": 341,
     "metadata": {},
     "output_type": "execute_result"
    }
   ],
   "source": [
    "''' \n",
    ">    covid_status  (scale:1-7)\t\n",
    "                        'recovered_full', 'positive_mild', 'healthy', \n",
    "                        'resp_illness_not_identified', 'positive_asymp', \n",
    "                        'positive_moderate', 'no_resp_illness_exposed'\n",
    ">    gender        (0 or 1)\t\n",
    ">    age           (15-85)\n",
    "'''\n",
    "audio1 = './cough_model/data/neg-0421-085-cough-m-43.wav'\n",
    "audio2 = './cough_model/data/pos-0421-087-cough-f-40.wav'\n",
    "audio3 = './cough_model/data/pos-0421-086-cough-m-65.wav'\n",
    "\n",
    "data = pd.DataFrame([3, 0, 65]).T\n",
    "\n",
    "features = pd.DataFrame(feature_extraction(audio3)).T\n",
    "featured_csv = pd.concat([data, features], axis=1)\n",
    "\n",
    "mfcc = pd.DataFrame()\n",
    "for i in range(len(featured_csv)):\n",
    "  _, __ , Sxx = signal.spectrogram(featured_csv[6][i])\n",
    "  a = pd.DataFrame(Sxx.T)\n",
    "  mfcc = pd.concat([mfcc, a])\n",
    "\n",
    "df = pd.concat([featured_csv.drop([6], axis=1), mfcc], axis=1)\n",
    "\n",
    "filename = './cough_model/xgb.sav'\n",
    "loaded_model = pickle.load(open(filename, 'rb'))\n",
    "result = loaded_model.predict(df)\n",
    "result"
   ]
  },
  {
   "cell_type": "code",
   "execution_count": 345,
   "id": "a7ebb49a",
   "metadata": {},
   "outputs": [
    {
     "data": {
      "text/html": [
       "<div>\n",
       "<style scoped>\n",
       "    .dataframe tbody tr th:only-of-type {\n",
       "        vertical-align: middle;\n",
       "    }\n",
       "\n",
       "    .dataframe tbody tr th {\n",
       "        vertical-align: top;\n",
       "    }\n",
       "\n",
       "    .dataframe thead th {\n",
       "        text-align: right;\n",
       "    }\n",
       "</style>\n",
       "<table border=\"1\" class=\"dataframe\">\n",
       "  <thead>\n",
       "    <tr style=\"text-align: right;\">\n",
       "      <th></th>\n",
       "      <th>0</th>\n",
       "      <th>1</th>\n",
       "      <th>2</th>\n",
       "    </tr>\n",
       "  </thead>\n",
       "  <tbody>\n",
       "    <tr>\n",
       "      <th>0</th>\n",
       "      <td>3</td>\n",
       "      <td>0</td>\n",
       "      <td>65</td>\n",
       "    </tr>\n",
       "  </tbody>\n",
       "</table>\n",
       "</div>"
      ],
      "text/plain": [
       "   0  1   2\n",
       "0  3  0  65"
      ]
     },
     "execution_count": 345,
     "metadata": {},
     "output_type": "execute_result"
    }
   ],
   "source": []
  },
  {
   "cell_type": "code",
   "execution_count": 342,
   "id": "2f546b7c",
   "metadata": {},
   "outputs": [
    {
     "data": {
      "text/plain": [
       "array([[0.00305234, 0.99694766]])"
      ]
     },
     "execution_count": 342,
     "metadata": {},
     "output_type": "execute_result"
    }
   ],
   "source": [
    "# neg=0, pos=1\n",
    "loaded_model.predict_proba(df)"
   ]
  },
  {
   "cell_type": "code",
   "execution_count": null,
   "id": "ceb9b7c3",
   "metadata": {},
   "outputs": [],
   "source": []
  },
  {
   "cell_type": "markdown",
   "id": "907e8e39",
   "metadata": {},
   "source": [
    "# Streamlit"
   ]
  },
  {
   "cell_type": "code",
   "execution_count": null,
   "id": "cfc93615",
   "metadata": {},
   "outputs": [],
   "source": []
  },
  {
   "cell_type": "code",
   "execution_count": null,
   "id": "c12accbc",
   "metadata": {},
   "outputs": [],
   "source": []
  },
  {
   "cell_type": "code",
   "execution_count": null,
   "id": "240a429e",
   "metadata": {},
   "outputs": [],
   "source": []
  },
  {
   "cell_type": "code",
   "execution_count": null,
   "id": "09d82868",
   "metadata": {},
   "outputs": [],
   "source": []
  },
  {
   "cell_type": "code",
   "execution_count": null,
   "id": "65f5bc4b",
   "metadata": {},
   "outputs": [],
   "source": []
  }
 ],
 "metadata": {
  "kernelspec": {
   "display_name": "Python 3",
   "language": "python",
   "name": "python3"
  },
  "language_info": {
   "codemirror_mode": {
    "name": "ipython",
    "version": 3
   },
   "file_extension": ".py",
   "mimetype": "text/x-python",
   "name": "python",
   "nbconvert_exporter": "python",
   "pygments_lexer": "ipython3",
   "version": "3.7.4"
  }
 },
 "nbformat": 4,
 "nbformat_minor": 5
}
